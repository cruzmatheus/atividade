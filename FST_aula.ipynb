{
 "cells": [
  {
   "cell_type": "code",
   "execution_count": 6,
   "metadata": {},
   "outputs": [],
   "source": [
    "from collections import defaultdict\n",
    "import queue"
   ]
  },
  {
   "cell_type": "code",
   "execution_count": 7,
   "metadata": {},
   "outputs": [],
   "source": [
    "t = {\n",
    "    \"q0\": {\"0\" : (\"q1\", \"zero\"), \"2\":(\"q2\",\"vinte\"), \"3\":(\"q2\",\"trinta\"), \"4\":(\"q2\",\"quarenta\"), \"5\":(\"q2\",\"cinquenta\"), \"6\":(\"q2\",\"sessenta\"), \"7\":(\"q2\",\"setenta\"), \n",
    "               \"8\":(\"q2\",\"oitenta\"), \"9\":(\"q2\",\"noventa\"), \"10\":(\"q2\", \"cem\"), \"20\":(\"q2\", \"duzentos\"), \"30\":(\"q2\", \"trezentos\"), \"40\":(\"q2\", \"quatrossentos\"),\n",
    "                \"50\":(\"q2\", \"quinhentos\"), \"60\":(\"q2\", \"seiscentos\"), \"70\":(\"q2\",\"setessentos\"), \"80\":(\"q2\",\"oitossentos\"),  \"90\":(\"q2\", \"novessentos\")},    \n",
    "    \n",
    "    \"q1\": {\"0\" : (\"q0\", \"\") },\n",
    "    \n",
    "    \"q2\": {\"0\" : (\"q3\", \"\"), \"1\" : (\"q3\", \"e um\"), \"2\" : (\"q3\", \"e dois\"), \"3\" : (\"q3\", \"e três\"), \"4\" : (\"q3\", \"e quatro\"), \"5\" : (\"q3\", \"e cinco\"), \"6\" : (\"q3\", \"e seis\"), \n",
    "               \"7\" : (\"q3\", \"e sete\"), \"8\" : (\"q3\", \"e oito\"), \"9\" : (\"q3\", \"e nove\"),},\n",
    "    \n",
    "    \"q3\": { }\n",
    "}"
   ]
  },
  {
   "cell_type": "code",
   "execution_count": 3,
   "metadata": {},
   "outputs": [
    {
     "data": {
      "text/plain": [
       "{'q0': {'0': ('q1', 'zero'),\n",
       "  '2': ('q2', 'vinte'),\n",
       "  '3': ('q2', 'trinta'),\n",
       "  '4': ('q2', 'quarenta'),\n",
       "  '5': ('q2', 'cinquenta'),\n",
       "  '6': ('q2', 'sessenta'),\n",
       "  '7': ('q2', 'setenta'),\n",
       "  '8': ('q2', 'oitenta'),\n",
       "  '9': ('q2', 'noventa'),\n",
       "  '10': ('q2', 'cem'),\n",
       "  '20': ('q2', 'duzentos'),\n",
       "  '30': ('q2', 'trezentos'),\n",
       "  '40': ('q2', 'quatrossentos'),\n",
       "  '50': ('q2', 'quinhentos'),\n",
       "  '60': ('q2', 'seiscentos'),\n",
       "  '70': ('q2', 'setessentos'),\n",
       "  '80': ('q2', 'oitossentos'),\n",
       "  '90': ('q2', 'novessentos')},\n",
       " 'q1': {'0': ('q0', '')},\n",
       " 'q2': {'0': ('q3', ''),\n",
       "  '1': ('q3', 'e um'),\n",
       "  '2': ('q3', 'e dois'),\n",
       "  '3': ('q3', 'e três'),\n",
       "  '4': ('q3', 'e quatro'),\n",
       "  '5': ('q3', 'e cinco'),\n",
       "  '6': ('q3', 'e seis'),\n",
       "  '7': ('q3', 'e sete'),\n",
       "  '8': ('q3', 'e oito'),\n",
       "  '9': ('q3', 'e nove')},\n",
       " 'q3': {}}"
      ]
     },
     "execution_count": 3,
     "metadata": {},
     "output_type": "execute_result"
    }
   ],
   "source": [
    "t"
   ]
  },
  {
   "cell_type": "code",
   "execution_count": 8,
   "metadata": {},
   "outputs": [],
   "source": [
    "def parse(t, inp, qend, qstart=\"q0\"):\n",
    "    qcurr = qstart\n",
    "    out=\"\"\n",
    "    \n",
    "    for c in inp:\n",
    "        if c in t[qcurr]:\n",
    "            qcurr, output = t[qcurr][c]\n",
    "            out=out+output\n",
    "        else:\n",
    "            return None\n",
    "        \n",
    "    if(qcurr == qend):\n",
    "        return out\n",
    "    else:\n",
    "        return None"
   ]
  },
  {
   "cell_type": "code",
   "execution_count": 9,
   "metadata": {},
   "outputs": [],
   "source": [
    "t[\"q1\"].update({\" \":(\"q0\", \" \")})"
   ]
  },
  {
   "cell_type": "code",
   "execution_count": 10,
   "metadata": {},
   "outputs": [],
   "source": [
    "parse(t,\"100\",qend=\"q1\")"
   ]
  },
  {
   "cell_type": "code",
   "execution_count": null,
   "metadata": {},
   "outputs": [],
   "source": []
  },
  {
   "cell_type": "code",
   "execution_count": null,
   "metadata": {},
   "outputs": [],
   "source": []
  },
  {
   "cell_type": "code",
   "execution_count": null,
   "metadata": {},
   "outputs": [],
   "source": []
  }
 ],
 "metadata": {
  "kernelspec": {
   "display_name": "Python 3",
   "language": "python",
   "name": "python3"
  },
  "language_info": {
   "codemirror_mode": {
    "name": "ipython",
    "version": 3
   },
   "file_extension": ".py",
   "mimetype": "text/x-python",
   "name": "python",
   "nbconvert_exporter": "python",
   "pygments_lexer": "ipython3",
   "version": "3.8.3"
  }
 },
 "nbformat": 4,
 "nbformat_minor": 4
}
